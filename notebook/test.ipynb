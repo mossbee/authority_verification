{
 "cells": [
  {
   "cell_type": "code",
   "execution_count": null,
   "metadata": {},
   "outputs": [
    {
     "name": "stdout",
     "output_type": "stream",
     "text": [
      "3\n"
     ]
    }
   ],
   "source": [
    "from typing import List\n",
    "\n",
    "def find_start_of_sentence(input_texts: List[str], start_index: int) -> int:\n",
    "\tfor i in range(start_index, -1, -1):\n",
    "\t\tif input_texts[i][-1] in ['.', '?', '!', ':']:\n",
    "\t\t\treturn i + 1\n",
    "\treturn 0\n",
    "\n",
    "print(find_start_of_sentence([\"How\", \"are\", \"you?\"], 2))"
   ]
  }
 ],
 "metadata": {
  "kernelspec": {
   "display_name": "Python 3",
   "language": "python",
   "name": "python3"
  },
  "language_info": {
   "codemirror_mode": {
    "name": "ipython",
    "version": 3
   },
   "file_extension": ".py",
   "mimetype": "text/x-python",
   "name": "python",
   "nbconvert_exporter": "python",
   "pygments_lexer": "ipython3",
   "version": "3.11.2"
  }
 },
 "nbformat": 4,
 "nbformat_minor": 2
}
